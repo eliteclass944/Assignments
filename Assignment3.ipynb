{
 "cells": [
  {
   "cell_type": "markdown",
   "metadata": {},
   "source": [
    "# Data Set Selection:\n",
    "Download any publicly available data set. You can find data sets on platforms like Kaggle, UCI \n",
    "Machine Learning Repository, or data.gov.\n",
    "I have been provided with the \"titanic.csv\" file, which contains information about the passengers on the Titanic.\n"
   ]
  },
  {
   "cell_type": "markdown",
   "metadata": {},
   "source": [
    "# Data Loading:\n",
    "Let's load the dataset into a Pandas DataFrame using the read_csv function.\n"
   ]
  },
  {
   "cell_type": "code",
   "execution_count": null,
   "metadata": {},
   "outputs": [],
   "source": [
    "import pandas as pd\n",
    "data = pd.read_csv('titanic.csv')"
   ]
  },
  {
   "cell_type": "markdown",
   "metadata": {},
   "source": [
    "# Data Exploration:\n",
    "Perform a detailed exploration of the data set. This includes understanding the structure, features, and\n",
    "statistical summary of the data.\n",
    "1. To explore the data, we can use various functions provided by Pandas. For example, we can \n",
    "use the head function to view the first few rows of the DataFrame.\n",
    "data.head()\n",
    "2. We can also use the info function to view information about the DataFrame, such as the data \n",
    "types and number of non-null values.\n",
    "data.info()\n",
    "3. Additionally, we can use the describe function to view statistical summaries of the numerical \n",
    "columns.\n",
    "data.describe()"
   ]
  },
  {
   "cell_type": "code",
   "execution_count": null,
   "metadata": {
    "tags": [
     "remove-stdout"
    ]
   },
   "outputs": [],
   "source": [
    "import pandas as pd\n",
    "data = pd.read_csv('titanic.csv')\n",
    " # To explore the data, we can use various functions provided by Pandas. For example, we can use the head function to view the first few rows of the DataFrame.\n",
    "data.head()\n",
    "# We can also use the info function to view information about the DataFrame, such as the data types and number of non-null values.\n",
    "data.info()\n",
    "# Additionally, we can use the describe function to view statistical summaries of the numerical columns.\n",
    "data.describe()"
   ]
  },
  {
   "cell_type": "markdown",
   "metadata": {},
   "source": [
    "# Data Cleaning\n",
    "To clean the data, we need to handle missing values and duplicates. We can use the isnull function to identify missing values and the dropna function to drop rows with missing values."
   ]
  },
  {
   "cell_type": "code",
   "execution_count": null,
   "metadata": {},
   "outputs": [],
   "source": [
    "data.isnull().sum()\n",
    "data.dropna(inplace=True)\n",
    "# We can also use the duplicated function to identify and drop duplicate rows.\n",
    "data.duplicated().sum()\n",
    "data.drop_duplicates(inplace=True)\n",
    "\n"
   ]
  },
  {
   "cell_type": "markdown",
   "metadata": {},
   "source": [
    "# Data Visualization:\n",
    "To visualize the data, we can use Pandas built-in visualization capabilities along with Matplotlib and \n",
    "Seaborn. For example, we can use a bar plot to visualize the number of survivors by Gender."
   ]
  },
  {
   "cell_type": "code",
   "execution_count": null,
   "metadata": {},
   "outputs": [],
   "source": [
    "import matplotlib.pyplot as plt\n",
    "import seaborn as sns\n",
    "sns.countplot(x='Survived', hue='Gender', data=data)\n",
    "plt.show()\n",
    "# We can also use a scatter plot to visualize the relationship between age and fare.\n",
    "data.plot.scatter(x='Age', y='Fare', alpha=0.5)\n",
    "plt.show()"
   ]
  },
  {
   "cell_type": "markdown",
   "metadata": {},
   "source": [
    "# Explain the purpose of each visualization and the insights derived from it.\n",
    "Analysis and Insights:\n",
    "After each visualization, provide an analysis and the insights you derived from it.\n",
    "General explanation of some common types of visualizations and the insights that can be derived from them.\n",
    "# 1. Bar Chart:\n",
    " A bar chart is used to compare data across different categories. The height of \n",
    "each bar represents the value of a particular variable for each category. For example, a bar \n",
    "chart can be used to compare the number of passengers by class on the Titanic. The insights \n",
    "derived from this visualization can help us understand the distribution of passengers by class \n",
    "and identify any disparities.\n",
    "# 2. Line Chart:\n",
    " A line chart is used to show trends over time. Each point in the line corresponds \n",
    "to a data value at a specific point in time. For example, a line chart can be used to show the number of passengers who survived the Titanic over time. The insights derived from this visualization can help us understand how the number of survivors changed over time and \n",
    "identify any patterns or trends.\n",
    "# 3. Scatter Plot:\n",
    " A scatter plot is used to show the relationship between two variables. Each \n",
    "point in the plot corresponds to a data value for two variables. For example, a scatter plot can be used to show the relationship between age and survival on the Titanic. The insights derived from this visualization can help us understand if there is a correlation between age and survival and identify any outliers.\n",
    "# 4. Histogram:\n",
    " A histogram is used to show the distribution of a single variable. The x-axis \n",
    "represents the range of values for the variable, and the y-axis represents the frequency of each value. For example, a histogram can be used to show the age distribution of passengers on the Titanic. The insights derived from this visualization can help us understand the range of ages \n",
    "of passengers and identify any peaks or gaps in the distribution.\n",
    "# 5. Box Plot:\n",
    " A box plot is used to show the distribution of a single variable and identify outliers. The box represents the interquartile range (IQR), which is the range of the middle 50% of data values. The line in the middle of the box represents the median, and the whiskers represent the range of the data. For example, a box plot can be used to show the distribution of fares paid by passengers on the Titanic. The insights derived from this visualization can help us understand the range of fares paid by passengers and identify any outliers.\n",
    "# 6. Heatmap:\n",
    " A heatmap is used to show the correlation between two variables. The color of \n",
    "each cell in the heatmap corresponds to the correlation coefficient between the two variables. For example, a heatmap can be used to show the correlation between age and survival on the Titanic. The insights derived from this visualization can help us understand if there is a correlation between age and survival and identify any patterns or trends."
   ]
  }
 ],
 "metadata": {
  "kernelspec": {
   "display_name": "Python 3",
   "language": "python",
   "name": "python3"
  },
  "language_info": {
   "codemirror_mode": {
    "name": "ipython",
    "version": 3
   },
   "file_extension": ".py",
   "mimetype": "text/x-python",
   "name": "python",
   "nbconvert_exporter": "python",
   "pygments_lexer": "ipython3",
   "version": "3.7.6"
  },
  "toc": {
   "base_numbering": 1,
   "nav_menu": {},
   "number_sections": false,
   "sideBar": true,
   "skip_h1_title": false,
   "title_cell": "Table of Contents",
   "title_sidebar": "Contents",
   "toc_cell": false,
   "toc_position": {},
   "toc_section_display": true,
   "toc_window_display": false
  }
 },
 "nbformat": 4,
 "nbformat_minor": 4
}
